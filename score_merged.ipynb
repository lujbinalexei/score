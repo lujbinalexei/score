{
 "cells": [
  {
   "cell_type": "markdown",
   "metadata": {},
   "source": [
    "**Импорты внешних модулей и библиотек**"
   ]
  },
  {
   "cell_type": "code",
   "execution_count": 1,
   "metadata": {},
   "outputs": [],
   "source": [
    "import warnings\n",
    "warnings.filterwarnings('ignore')\n",
    "import os\n",
    "import pandas as pd\n",
    "from glob import glob\n",
    "from sklearn.linear_model import LogisticRegression\n",
    "from sklearn.model_selection import train_test_split\n",
    "from sklearn.metrics import roc_auc_score\n",
    "from sklearn.metrics import roc_curve\n",
    "from sklearn.preprocessing import MinMaxScaler\n",
    "import matplotlib.pyplot as plt"
   ]
  },
  {
   "cell_type": "markdown",
   "metadata": {},
   "source": [
    "**Объявление функций**"
   ]
  },
  {
   "cell_type": "code",
   "execution_count": 2,
   "metadata": {},
   "outputs": [],
   "source": [
    "def regions(regions, names):\n",
    "    regs = list(dict(regions.value_counts()).items())\n",
    "    regs = [i[0] for i in regs if i[1] >= 5]\n",
    "\n",
    "    words = [\n",
    "             'автономный', 'округ', 'край', 'город',\n",
    "             'республика', 'область', 'обл', 'обл.',\n",
    "             'г', 'г.', 'респ', 'респ.'\n",
    "    ]\n",
    "    regs_modified = []\n",
    "    for s in regs:\n",
    "        s = s.lower().strip().replace('/', '').replace('(', '').replace(')', '')\n",
    "        s = s.split()\n",
    "        for i in words:\n",
    "            try:\n",
    "                del s[s.index(i)]\n",
    "            except:\n",
    "                continue\n",
    "        regs_modified.append(s[0])\n",
    "\n",
    "    names = list(set(names))\n",
    "\n",
    "    regs_names = []\n",
    "    for i in range(len(regs_modified)):\n",
    "        rm = regs_modified[i]\n",
    "        if len(rm) < 10: rm = rm[:-2]\n",
    "        else: rm = rm[:-4]\n",
    "        count = 0\n",
    "        for j in range(len(names)):\n",
    "            if rm in names[j].lower() and count == 0:\n",
    "                regs_names.append(names[j])\n",
    "                count += 1\n",
    "                break\n",
    "        if count == 0:\n",
    "            regs_names.append(None)\n",
    "\n",
    "    return pd.DataFrame({'regions': regs, 'names': regs_names}) \n",
    "\n",
    "def income(income):\n",
    "    inc = []\n",
    "    for i in income:\n",
    "        if len(str(i).strip().replace(' ', '')) > 3:\n",
    "            try:\n",
    "                inc.append(float(i))\n",
    "            except:\n",
    "                inc.append(None)\n",
    "        else:\n",
    "            inc.append(None)\n",
    "    return inc\n",
    "\n",
    "def print_info(df):\n",
    "    print('Кол-во исходов в консолидированной выборке: {}'.format(df.shape[0]))\n",
    "    print('Кол-во положительных исходов: {}'.format(df[df['default'] == 0].shape[0]))\n",
    "    print('Кол-во отрицательных исходов: {}'.format(df[df['default'] == 1].shape[0]))\n",
    "\n",
    "def gather(files, field):\n",
    "    dfs = []\n",
    "    for i in range(len(files)):\n",
    "        df_tmp = pd.read_csv(files[i], sep = ';', skiprows = 1, names = ['DogNum', field])\n",
    "        dfs.append(df_tmp)\n",
    "    df = pd.concat(dfs)\n",
    "    df.drop_duplicates(subset = ['DogNum'], inplace = True)\n",
    "    df.dropna(inplace = True)\n",
    "    return df\n",
    "\n",
    "def col_names():\n",
    "    return {\n",
    "        'Кол-во кредитов со статусом \"Активный\" (тип кредита - любой, кроме \"Микрокредит\")':    'Active_exceptfor_micro',\n",
    "        'Кол-во кредитов со статусом \"Счет Закрыт\" (тип кредита - любой, кроме \"Микрокредит\")': 'Closed_exceptfor_micro',\n",
    "        'Кол-во кредитов со статусом \"Просрочен\" (тип кредита - любой, кроме \"Микрокредит\") ':  'Overdue_exceptfor_micro',\n",
    "        'Кол-во кредитов со статусом \"Счет закрыт - переведён в другой банк\" (тип кредита - любой, кроме \"Микрокредит\")':\\\n",
    "                                                                                                'Closed_trans_exceptfor_micro',\n",
    "        'Кол-во кредитов со статусом \"Активный\" (тип кредита - \"Микрокредит\")':    'Active_micro',\n",
    "        'Кол-во кредитов со статусом \"Счет Закрыт\" (тип кредита - \"Микрокредит\")': 'Closed_micro',\n",
    "        'Кол-во кредитов со статусом \"Просрочен\" (тип кредита - \"Микрокредит\")':   'Overdue_micro',\n",
    "        'Кол-во кредитов со статусом \"Счет закрыт - переведён в другой банк\" (тип кредита - \"Микрокредит\")':\\\n",
    "                                                                                   'Closed_trans_micro',\n",
    "        'Просрочено (по всем кредитам)': 'Overdue_all',\n",
    "        'Число просрочек до 30 дней (по всем кредитам)':      'Num_overdue_all_30',\n",
    "        'Число просрочек до 60 дней (по всем кредитам)':      'Num_overdue_all_60',\n",
    "        'Число просрочек до 90 дней (по всем кредитам)':      'Num_overdue_all_90',\n",
    "        'Число просрочек до 120 дней (по всем кредитам)':     'Num_overdue_all_120',\n",
    "        'Число просрочек более 120 дней (по всем кредитам)':  'Num_overdue_all_120plus',\n",
    "        'След. платеж (по всем кредитам)':                    'Next_payment',\n",
    "        'Минимальная сумма кредита со статусом \"Просрочен\" ': 'Minsum_overdue',\n",
    "        'Кол-во запросов в НБКИ за последние 30 дней':        'Num_request',\n",
    "        'Качество прошлой КИ':                                'Credithistory_quality',\n",
    "        'Доля активных договоров с просрочками':              'Fraqactive_overdue',\n",
    "        'Доля закрытых договоров с просрочками':              'Fraqclosed_overdue',\n",
    "        'Сумма просрочек до 30 дней (по всем кредитам)':      'Sum_overdue_all_30',\n",
    "        'Сумма просрочек до 60 дней (по всем кредитам)':      'Sum_overdue_all_60',\n",
    "        'Сумма просрочек до 90 дней (по всем кредитам)':      'Sum_overdue_all_90',\n",
    "        'Сумма просрочек до 120 дней (по всем кредитам)':     'Sum_overdue_all_120',\n",
    "        'Сумма просрочек более 120 дней (по всем кредитам)':  'Sum_overdue_all_120plus',\n",
    "    }"
   ]
  },
  {
   "cell_type": "markdown",
   "metadata": {},
   "source": [
    "**Формирование выборки и предобработка данных**"
   ]
  },
  {
   "cell_type": "code",
   "execution_count": 3,
   "metadata": {},
   "outputs": [],
   "source": [
    "path = os.getcwd()\n",
    "path_opr = os.path.join(os.path.split(os.getcwd())[0], 'metrics\\data\\opr')\n",
    "path_zvk = os.path.join(os.path.split(os.getcwd())[0], 'metrics\\data\\zvk')\n",
    "\n",
    "f = glob('\\\\'.join([path, 'data', 'halfYear', '*.csv']))\n",
    "hlf = [_ for _ in f if 'analytics' in _]\n",
    "bal = [_ for _ in f if 'accounting' in _]\n",
    "\n",
    "f = glob('\\\\'.join([path, 'data', 'equifax', '*.csv']))\n",
    "equi = [_ for _ in f if 'Requests' in _]\n",
    "\n",
    "f = glob('\\\\'.join([path, 'data', 'features', '*.csv']))\n",
    "regs = [_ for _ in f if 'regions' in _]\n",
    "edu  = [_ for _ in f if 'education' in _]\n",
    "marg = [_ for _ in f if 'marriage' in _]\n",
    "inc  = [_ for _ in f if 'income' in _]"
   ]
  },
  {
   "cell_type": "code",
   "execution_count": null,
   "metadata": {},
   "outputs": [],
   "source": [
    "dfopr = pd.read_csv('\\\\'.join([path_opr, 'opr_merger_report_.csv']), sep = ';', encoding = 'cp1251',\n",
    "                                                                                parse_dates = ['Дата выполнения'])\n",
    "dfzvk = pd.read_csv('\\\\'.join([path_zvk, 'zvk_merger_report_.csv']), sep = ';', encoding = 'cp1251',\n",
    "                                                                                parse_dates = ['Дата рождения клиента'])"
   ]
  },
  {
   "cell_type": "code",
   "execution_count": null,
   "metadata": {},
   "outputs": [],
   "source": [
    "dfs = []\n",
    "for i in range(len(equi)):\n",
    "    df_tmp = pd.read_csv(equi[i], sep = ';', encoding = 'cp1251')\n",
    "    dfs.append(df_tmp)\n",
    "df_equi = pd.concat(dfs)\n",
    "df_equi.rename(columns = {'Номер договора': 'DogNum'}, inplace = True)\n",
    "df_equi.dropna(subset = ['DogNum'], inplace = True)\n",
    "df_equi['type'] = list(map(lambda x: 'online' if 'ON' in x else 'offline', df_equi['DogNum']))\n",
    "df_equi = df_equi[df_equi['type'] == 'online']\n",
    "df_equi.drop_duplicates(subset = ['DogNum'], inplace = True)\n",
    "df_equi.fillna(value = 0, inplace = True)\n",
    "print('Кол-во строк в консолидированном отчете: {}'.format(df_equi.shape[0]))"
   ]
  },
  {
   "cell_type": "code",
   "execution_count": null,
   "metadata": {},
   "outputs": [],
   "source": [
    "dfs = []\n",
    "cols1 = ['номер договора', 'дата выдачи займа', 'статус', 'число дней просрочки']\n",
    "for i in range(len(hlf)):\n",
    "    df_tmp = pd.read_csv(hlf[i], sep = ';', usecols = cols1, encoding = 'cp1251',\n",
    "                                                             parse_dates = ['дата выдачи займа'], dayfirst = True)\n",
    "    df_tmp['Дата отчета'] = pd.to_datetime(hlf[i].split('[')[1][:-1], yearfirst = True)\n",
    "    dfs.append(df_tmp)\n",
    "df_hlf = pd.concat(dfs)\n",
    "\n",
    "dfs = []\n",
    "cols2 = ['Номер договора', 'Дата договора', 'Статус', 'Количество дней просрочки']\n",
    "for i in range(len(bal)):\n",
    "    df_tmp = pd.read_csv(bal[i], sep = ';', usecols = cols2, encoding = 'cp1251',\n",
    "                                                             parse_dates = ['Дата договора'], dayfirst = True)\n",
    "    df_tmp['Дата отчета'] = pd.to_datetime(bal[i].split('_')[1], yearfirst = True) + pd.to_timedelta('1 day')\n",
    "    dfs.append(df_tmp)\n",
    "df_bal = pd.concat(dfs)\n",
    "\n",
    "cols = {i : j for i, j in zip(cols2, cols1)}\n",
    "df_bal.rename(columns = cols, inplace = True)"
   ]
  },
  {
   "cell_type": "code",
   "execution_count": null,
   "metadata": {},
   "outputs": [],
   "source": [
    "df_hlf = pd.concat(objs = [df_hlf, df_bal], ignore_index = True)\n",
    "df_hlf.rename(columns = {'номер договора': 'DogNum'}, inplace = True)\n",
    "df_hlf['type'] = list(map(lambda x: 'online' if 'ON' in x else 'offline', df_hlf['DogNum']))\n",
    "df_hlf = df_hlf[df_hlf['type'] == 'online']\n",
    "df_hlf.drop_duplicates(inplace = True)\n",
    "df_hlf.dropna(inplace = True)\n",
    "assert set(df_hlf.isna().any()) == {False}\n",
    "print('Кол-во строк в консолидированном отчете: {}'.format(df_hlf.shape[0]))"
   ]
  },
  {
   "cell_type": "code",
   "execution_count": null,
   "metadata": {},
   "outputs": [],
   "source": [
    "df_hlf = pd.merge(left = df_hlf,\n",
    "                  right = dfzvk[['DogNum', 'Продукт', 'Число займов, выданных данному клиенту ДО даты создания заявки.']],\n",
    "                  how = 'left',\n",
    "                  on = 'DogNum', validate = 'many_to_one')\n",
    "df_hlf = df_hlf[(df_hlf['Продукт'] != 'auto-lombard')\\\n",
    "                  & (df_hlf['Число займов, выданных данному клиенту ДО даты создания заявки.'] == 0)]"
   ]
  },
  {
   "cell_type": "code",
   "execution_count": null,
   "metadata": {},
   "outputs": [],
   "source": [
    "sample = []\n",
    "pivot_dates = sorted(set(df_hlf['Дата отчета']))\n",
    "for i in pivot_dates:\n",
    "    df_posit_tmp = df_hlf[(df_hlf['Дата отчета'] == i) & (df_hlf['статус'] == 'Заем погашен')\\\n",
    "                                                       & (df_hlf['число дней просрочки'] == 0)]\n",
    "    df_negat_tmp = df_hlf[(df_hlf['Дата отчета'] == i) & (df_hlf['статус'] == 'Заем просрочен')]\n",
    "    df_posit_tmp['default'] = 0\n",
    "    df_negat_tmp['default'] = 1\n",
    "    df_tmp = pd.concat([df_posit_tmp, df_negat_tmp], ignore_index = True)\n",
    "    df_opr_tmp = dfopr[dfopr['Дата выполнения'] < i]\n",
    "    df_opr_tmp = df_opr_tmp.groupby(by = 'DogNum', as_index = False).agg({'Дата выполнения': max})\n",
    "    df_tmp = pd.merge(df_tmp[['DogNum', 'дата выдачи займа', 'Дата отчета', 'default']],\n",
    "                      df_opr_tmp[['DogNum', 'Дата выполнения']], on = 'DogNum', validate = 'one_to_one')\n",
    "    df_tmp.loc[df_tmp['default'] == 0, 'days'] = df_tmp['Дата выполнения'] - df_tmp['дата выдачи займа']\n",
    "    df_tmp.loc[df_tmp['default'] == 1, 'days'] = df_tmp['Дата отчета'] - df_tmp['Дата выполнения']\n",
    "    df_tmp['days'] = list(map(lambda x: x.days, df_tmp['days']))\n",
    "    sample.append(df_tmp)\n",
    "df_hlf_ref = pd.concat(sample, ignore_index = True)\n",
    "print('Кол-во строк в консолидированном отчете: {}'.format(df_hlf_ref.shape[0]))"
   ]
  },
  {
   "cell_type": "code",
   "execution_count": null,
   "metadata": {},
   "outputs": [],
   "source": [
    "df_posit = df_hlf_ref[(df_hlf_ref['default'] == 0) & (df_hlf_ref['days'] >= 3)][['DogNum', 'default']]\n",
    "df_negat = df_hlf_ref[(df_hlf_ref['default'] == 1) & (df_hlf_ref['days'] >= 30)][['DogNum', 'default']]\n",
    "\n",
    "df_samp = pd.concat([df_posit, df_negat], ignore_index = True)\n",
    "df_samp.drop_duplicates(subset = 'DogNum', inplace = True)\n",
    "assert set(df_samp.isna().any()) == {False}\n",
    "print_info(df_samp)"
   ]
  },
  {
   "cell_type": "code",
   "execution_count": null,
   "metadata": {},
   "outputs": [],
   "source": [
    "cols = ['DogNum', 'Пол клиента', 'Дата рождения клиента', 'Регион фактического проживания']\n",
    "df_zvk = dfzvk.reindex(columns = cols)\n",
    "df_zvk.columns = ['DogNum', 'Gender', 'Birthday', 'regions']\n",
    "df_zvk.dropna(inplace = True)\n",
    "\n",
    "cols = ['Вид', 'DogNum', 'Дата выполнения']\n",
    "df_opr = dfopr.reindex(columns = cols)\n",
    "df_opr = df_opr[df_opr['Вид'] == 'Выдача займа']\n",
    "df_opr.drop_duplicates(subset = ['DogNum'], inplace = True)\n",
    "df_opr.dropna(inplace = True)"
   ]
  },
  {
   "cell_type": "code",
   "execution_count": null,
   "metadata": {},
   "outputs": [],
   "source": [
    "df_samp = pd.merge(df_samp, df_opr[['DogNum', 'Дата выполнения']], on = 'DogNum', validate = 'one_to_one')\n",
    "df_samp = pd.merge(df_samp, df_zvk, on = 'DogNum', validate = 'one_to_one')\n",
    "df_samp['Age'] = pd.Series(map(lambda x: x.date().year, df_samp['Дата выполнения']))\\\n",
    "                                                            - pd.Series(map(lambda x: x.date().year, df_samp['Birthday']))\n",
    "assert set(df_samp.isna().any()) == {False}\n",
    "print_info(df_samp)"
   ]
  },
  {
   "cell_type": "code",
   "execution_count": null,
   "metadata": {},
   "outputs": [],
   "source": [
    "df_edu = gather(edu, 'Education')\n",
    "df_marg = gather(marg, 'Marriage')\n",
    "df_marg.loc[(df_marg['Marriage'] == 'Холост/не замужем')\\\n",
    "            | (df_marg['Marriage'] == 'Разведен(а)')\\\n",
    "            | (df_marg['Marriage'] == 'Гражданский брак'), 'Marriage'] = 'не состоит в браке'\n",
    "df_inc = gather(inc, 'Income')\n",
    "df_inc['Income'] = income(df_inc['Income'])\n",
    "df_inc = df_inc[pd.isnull(df_inc['Income']) == False]\n",
    "\n",
    "df_regs = pd.read_csv(regs[0], sep = ';', names = ['names', 'wage'], encoding = 'cp1251')\n",
    "df_regwages = regions(df_samp['regions'], df_regs['names'])\n",
    "df_regwages = pd.merge(left = df_regwages, right = df_regs, how = 'left', on = 'names', validate = 'many_to_one')"
   ]
  },
  {
   "cell_type": "code",
   "execution_count": null,
   "metadata": {},
   "outputs": [],
   "source": [
    "df_sample = pd.merge(left = df_samp, right = df_regwages, how = 'left', on = 'regions', validate = 'many_to_one')\n",
    "df_sample = df_sample[pd.isnull(df_sample['wage']) == False]\n",
    "\n",
    "df_sample = pd.merge(df_sample, df_edu, on = 'DogNum', validate = 'one_to_one')\n",
    "df_sample = pd.merge(df_sample, df_marg, on = 'DogNum', validate = 'one_to_one')\n",
    "\n",
    "df_sample = pd.merge(df_sample, df_inc, on = 'DogNum', validate = 'one_to_one')\n",
    "df_sample['Income'] = list(map(lambda x, y: min(x, y), df_sample['wage'], df_sample['Income']))\n",
    "df_sample.drop(labels = ['Birthday', 'regions', 'names', 'Дата выполнения', 'wage'], axis = 1, inplace = True)\n",
    "\n",
    "assert set(df_sample.isna().any()) == {False}\n",
    "print_info(df_sample)"
   ]
  },
  {
   "cell_type": "code",
   "execution_count": null,
   "metadata": {},
   "outputs": [],
   "source": [
    "df_sample_hist = pd.merge(df_sample, df_equi, on = 'DogNum', validate = 'one_to_one')\n",
    "df_sample_hist.rename(columns = col_names(), inplace = True)\n",
    "df_sample_hist.drop(labels = ['Дата создания отчета', 'ФИО', 'Дата рождения', 'type'], axis = 1, inplace = True)\n",
    "print_info(df_sample_hist)"
   ]
  },
  {
   "cell_type": "code",
   "execution_count": null,
   "metadata": {},
   "outputs": [],
   "source": [
    "df_sample_hist.to_csv('\\\\'.join([path, 'data', 'sample_.csv']), sep = ';', index = False, encoding = 'cp1251')"
   ]
  },
  {
   "cell_type": "markdown",
   "metadata": {},
   "source": [
    "**Обучение и тест**"
   ]
  },
  {
   "cell_type": "code",
   "execution_count": 4,
   "metadata": {},
   "outputs": [],
   "source": [
    "path = os.getcwd()\n",
    "df_samp = pd.read_csv('\\\\'.join([path, 'data', 'sample_.csv']), sep = ';', encoding = 'cp1251')"
   ]
  },
  {
   "cell_type": "code",
   "execution_count": 5,
   "metadata": {},
   "outputs": [],
   "source": [
    "df_part1 = pd.get_dummies(df_samp[['Gender', 'Education', 'Marriage']])\n",
    "df_part2 = pd.concat([df_samp.loc[:, 'Credithistory_quality':'Fraqclosed_overdue']], axis = 1)\n",
    "\n",
    "df_part3 = pd.concat([df_samp.loc[:, 'Active_exceptfor_micro':'Num_overdue_all_120plus'],\n",
    "                      df_samp[['Num_request']], df_samp[['Age']]], axis = 1)\n",
    "df_part4 = pd.concat([df_samp[['Income']], df_samp[['Minsum_overdue']],\n",
    "                      df_samp.loc[:, 'Sum_overdue_all_30':'Sum_overdue_all_120plus']], axis = 1)"
   ]
  },
  {
   "cell_type": "code",
   "execution_count": 6,
   "metadata": {},
   "outputs": [],
   "source": [
    "X = pd.concat([df_part1, df_part2, df_part3, df_part4], axis = 1)\n",
    "y = df_samp['default'].values\n",
    "X_train, X_test, y_train, y_test = train_test_split(X, y, test_size = 0.1, random_state = 42)\n",
    "\n",
    "scaler = MinMaxScaler()\n",
    "scaler.fit(X_train)\n",
    "X_train_scaled = scaler.transform(X_train)\n",
    "X_test_scaled = scaler.transform(X_test)"
   ]
  },
  {
   "cell_type": "code",
   "execution_count": 7,
   "metadata": {},
   "outputs": [
    {
     "name": "stdout",
     "output_type": "stream",
     "text": [
      "Правильность на обучающем наборе: 0.60\n",
      "Правильность на тестовом наборе: 0.60\n",
      "roc_auc_score: 0.64\n"
     ]
    }
   ],
   "source": [
    "clf = LogisticRegression().fit(X_train_scaled, y_train)\n",
    "roc = roc_auc_score(y_test, clf.predict_proba(X_test_scaled)[:, 1])\n",
    "\n",
    "print('Правильность на обучающем наборе: {:.2f}'.format(clf.score(X_train_scaled, y_train)))\n",
    "print('Правильность на тестовом наборе: {:.2f}'.format(clf.score(X_test_scaled, y_test)))\n",
    "print('roc_auc_score: {:.2f}'.format(roc))"
   ]
  },
  {
   "cell_type": "code",
   "execution_count": 8,
   "metadata": {},
   "outputs": [
    {
     "data": {
      "text/plain": [
       "[('Gender_Женский', -0.17597818994458636),\n",
       " ('Gender_Мужской', 0.13909488449020702),\n",
       " ('Education_Высшее', -0.3092704284326204),\n",
       " ('Education_Неполное высшее', -0.02354907053269011),\n",
       " ('Education_Профессиональное', 0.06307526491309348),\n",
       " ('Education_Среднее', 0.23286092859316138),\n",
       " ('Marriage_не состоит в браке', 0.03140163260086435),\n",
       " ('Marriage_состоит в браке', -0.06828493805298076),\n",
       " ('Credithistory_quality', 0.0466279056694721),\n",
       " ('Fraqactive_overdue', 0.3917774811388326),\n",
       " ('Fraqclosed_overdue', 0.6366095553563145),\n",
       " ('Active_exceptfor_micro', -0.1195452677960906),\n",
       " ('Closed_exceptfor_micro', 0.245208643883249),\n",
       " ('Overdue_exceptfor_micro', 0.4558413478511134),\n",
       " ('Closed_trans_exceptfor_micro', 0.08681389846497949),\n",
       " ('Active_micro', 1.2704238391945828),\n",
       " ('Closed_micro', -3.5133792632856973),\n",
       " ('Overdue_micro', 0.9744853353815519),\n",
       " ('Closed_trans_micro', 0.017546605014309595),\n",
       " ('Overdue_all', 1.1194543802567722),\n",
       " ('Num_overdue_all_30', 2.214839578304756),\n",
       " ('Num_overdue_all_60', -0.054183697222705544),\n",
       " ('Num_overdue_all_90', -0.027465972586923078),\n",
       " ('Num_overdue_all_120', 0.18890005843279656),\n",
       " ('Num_overdue_all_120plus', -1.211063079463096),\n",
       " ('Num_request', 0.3541357887604985),\n",
       " ('Age', -0.49998933605892865),\n",
       " ('Income', -1.4252357749715654),\n",
       " ('Minsum_overdue', -0.7637690932325332),\n",
       " ('Sum_overdue_all_30', 0.969264025484912),\n",
       " ('Sum_overdue_all_60', 0.19197977708464317),\n",
       " ('Sum_overdue_all_90', 0.27146390591644487),\n",
       " ('Sum_overdue_all_120', -0.3780344405966315),\n",
       " ('Sum_overdue_all_120plus', 0.8438521784897369)]"
      ]
     },
     "execution_count": 8,
     "metadata": {},
     "output_type": "execute_result"
    }
   ],
   "source": [
    "list(zip(X_train.columns, clf.coef_[0]))"
   ]
  },
  {
   "cell_type": "code",
   "execution_count": 9,
   "metadata": {},
   "outputs": [
    {
     "data": {
      "image/png": "[encoded data removed]",
      "text/plain": [
       "<Figure size 576x576 with 1 Axes>"
      ]
     },
     "metadata": {
      "needs_background": "light"
     },
     "output_type": "display_data"
    }
   ],
   "source": [
    "plt.figure(figsize = (8, 8))\n",
    "fpr, tpr, thresholds = roc_curve(y_test, clf.predict_proba(X_test_scaled)[:, 1])\n",
    "plt.plot(fpr, tpr, label = 'ROC-кривая')\n",
    "plt.plot([0, 1])\n",
    "plt.xlabel('FPR (доля ошибок)')\n",
    "plt.ylabel('TPR (полнота)')\n",
    "plt.title('roc_auc_score: {:.2f}'.format(roc))\n",
    "plt.grid(axis = 'y', alpha = 0.5)\n",
    "plt.legend(loc = 4)\n",
    "plt.show()"
   ]
  },
  {
   "cell_type": "code",
   "execution_count": null,
   "metadata": {},
   "outputs": [],
   "source": []
  }
 ],
 "metadata": {
  "kernelspec": {
   "display_name": "Python 3",
   "language": "python",
   "name": "python3"
  },
  "language_info": {
   "codemirror_mode": {
    "name": "ipython",
    "version": 3
   },
   "file_extension": ".py",
   "mimetype": "text/x-python",
   "name": "python",
   "nbconvert_exporter": "python",
   "pygments_lexer": "ipython3",
   "version": "3.7.3"
  }
 },
 "nbformat": 4,
 "nbformat_minor": 2
}
